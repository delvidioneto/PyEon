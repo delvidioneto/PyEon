{
 "cells": [
  {
   "cell_type": "code",
   "execution_count": 10,
   "metadata": {},
   "outputs": [
    {
     "ename": "ImportError",
     "evalue": "cannot import name 'intdate' from 'bonniebully' (d:\\Meus_projetos\\dManipulation\\bonniebully\\__init__.py)",
     "output_type": "error",
     "traceback": [
      "\u001b[1;31m---------------------------------------------------------------------------\u001b[0m",
      "\u001b[1;31mImportError\u001b[0m                               Traceback (most recent call last)",
      "Cell \u001b[1;32mIn[10], line 1\u001b[0m\n\u001b[1;32m----> 1\u001b[0m \u001b[38;5;28;01mfrom\u001b[39;00m \u001b[38;5;21;01mbonniebully\u001b[39;00m \u001b[38;5;28;01mimport\u001b[39;00m intdate\n\u001b[0;32m      2\u001b[0m \u001b[38;5;28;01mfrom\u001b[39;00m \u001b[38;5;21;01mdatetime\u001b[39;00m \u001b[38;5;28;01mimport\u001b[39;00m date, datetime\n\u001b[0;32m      3\u001b[0m \u001b[38;5;28;01mimport\u001b[39;00m \u001b[38;5;21;01mpandas\u001b[39;00m\n",
      "\u001b[1;31mImportError\u001b[0m: cannot import name 'intdate' from 'bonniebully' (d:\\Meus_projetos\\dManipulation\\bonniebully\\__init__.py)"
     ]
    }
   ],
   "source": [
    "from bonniebully import intdate\n",
    "from datetime import date, datetime\n",
    "import pandas"
   ]
  },
  {
   "cell_type": "code",
   "execution_count": 5,
   "metadata": {},
   "outputs": [
    {
     "name": "stdout",
     "output_type": "stream",
     "text": [
      "2023-12-28\n"
     ]
    }
   ],
   "source": [
    "dia_atual = date(day=28, month=12, year=2023)\n",
    "print(dia_atual)"
   ]
  },
  {
   "cell_type": "code",
   "execution_count": 8,
   "metadata": {},
   "outputs": [
    {
     "ename": "NameError",
     "evalue": "name 'intdate' is not defined",
     "output_type": "error",
     "traceback": [
      "\u001b[1;31m---------------------------------------------------------------------------\u001b[0m",
      "\u001b[1;31mNameError\u001b[0m                                 Traceback (most recent call last)",
      "Cell \u001b[1;32mIn[8], line 1\u001b[0m\n\u001b[1;32m----> 1\u001b[0m dia \u001b[38;5;241m=\u001b[39m \u001b[43mintdate\u001b[49m(\u001b[38;5;124m'\u001b[39m\u001b[38;5;124mDAY\u001b[39m\u001b[38;5;124m'\u001b[39m, dia_atual, \u001b[38;5;241m3\u001b[39m, \u001b[38;5;124m'\u001b[39m\u001b[38;5;124mS\u001b[39m\u001b[38;5;124m'\u001b[39m)\u001b[38;5;241m.\u001b[39mgetDates()\n\u001b[0;32m      2\u001b[0m dia_util \u001b[38;5;241m=\u001b[39m intdate(\u001b[38;5;124m'\u001b[39m\u001b[38;5;124mBDAY\u001b[39m\u001b[38;5;124m'\u001b[39m, dia_atual, \u001b[38;5;241m3\u001b[39m, \u001b[38;5;124m'\u001b[39m\u001b[38;5;124mS\u001b[39m\u001b[38;5;124m'\u001b[39m, \u001b[38;5;124m\"\u001b[39m\u001b[38;5;124mBR\u001b[39m\u001b[38;5;124m\"\u001b[39m, \u001b[38;5;124m\"\u001b[39m\u001b[38;5;124mSP\u001b[39m\u001b[38;5;124m\"\u001b[39m)\u001b[38;5;241m.\u001b[39mgetDates()\n",
      "\u001b[1;31mNameError\u001b[0m: name 'intdate' is not defined"
     ]
    }
   ],
   "source": [
    "dia = intdate('DAY', dia_atual, 3, 'S').getDates()\n",
    "dia_util = intdate('BDAY', dia_atual, 3, 'S', \"BR\", \"SP\").getDates()"
   ]
  },
  {
   "cell_type": "code",
   "execution_count": 7,
   "metadata": {},
   "outputs": [
    {
     "name": "stdout",
     "output_type": "stream",
     "text": [
      "Três dias a frente: 2023-12-31\n",
      "Três dias Uteis frente: 2024-01-02\n"
     ]
    }
   ],
   "source": [
    "print('Três dias a frente:', dia)\n",
    "print('Três dias Uteis frente:', dia_util)"
   ]
  }
 ],
 "metadata": {
  "kernelspec": {
   "display_name": "Python 3",
   "language": "python",
   "name": "python3"
  },
  "language_info": {
   "codemirror_mode": {
    "name": "ipython",
    "version": 3
   },
   "file_extension": ".py",
   "mimetype": "text/x-python",
   "name": "python",
   "nbconvert_exporter": "python",
   "pygments_lexer": "ipython3",
   "version": "3.11.2"
  }
 },
 "nbformat": 4,
 "nbformat_minor": 2
}
